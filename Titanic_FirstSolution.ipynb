{
 "cells": [
  {
   "cell_type": "code",
   "execution_count": 1,
   "metadata": {},
   "outputs": [],
   "source": [
    "import pandas as pd\n",
    "import numpy as np\n",
    "import matplotlib.pyplot as plt"
   ]
  },
  {
   "cell_type": "code",
   "execution_count": 244,
   "metadata": {},
   "outputs": [],
   "source": [
    "training = pd.read_csv(\"train.csv\")\n",
    "test = pd.read_csv(\"test.csv\")"
   ]
  },
  {
   "cell_type": "code",
   "execution_count": 245,
   "metadata": {
    "scrolled": true
   },
   "outputs": [
    {
     "data": {
      "text/html": [
       "<div>\n",
       "<style scoped>\n",
       "    .dataframe tbody tr th:only-of-type {\n",
       "        vertical-align: middle;\n",
       "    }\n",
       "\n",
       "    .dataframe tbody tr th {\n",
       "        vertical-align: top;\n",
       "    }\n",
       "\n",
       "    .dataframe thead th {\n",
       "        text-align: right;\n",
       "    }\n",
       "</style>\n",
       "<table border=\"1\" class=\"dataframe\">\n",
       "  <thead>\n",
       "    <tr style=\"text-align: right;\">\n",
       "      <th></th>\n",
       "      <th>PassengerId</th>\n",
       "      <th>Survived</th>\n",
       "      <th>Pclass</th>\n",
       "      <th>Name</th>\n",
       "      <th>Sex</th>\n",
       "      <th>Age</th>\n",
       "      <th>SibSp</th>\n",
       "      <th>Parch</th>\n",
       "      <th>Ticket</th>\n",
       "      <th>Fare</th>\n",
       "      <th>Cabin</th>\n",
       "      <th>Embarked</th>\n",
       "    </tr>\n",
       "  </thead>\n",
       "  <tbody>\n",
       "    <tr>\n",
       "      <th>0</th>\n",
       "      <td>1</td>\n",
       "      <td>0</td>\n",
       "      <td>3</td>\n",
       "      <td>Braund, Mr. Owen Harris</td>\n",
       "      <td>male</td>\n",
       "      <td>22.0</td>\n",
       "      <td>1</td>\n",
       "      <td>0</td>\n",
       "      <td>A/5 21171</td>\n",
       "      <td>7.2500</td>\n",
       "      <td>NaN</td>\n",
       "      <td>S</td>\n",
       "    </tr>\n",
       "    <tr>\n",
       "      <th>1</th>\n",
       "      <td>2</td>\n",
       "      <td>1</td>\n",
       "      <td>1</td>\n",
       "      <td>Cumings, Mrs. John Bradley (Florence Briggs Th...</td>\n",
       "      <td>female</td>\n",
       "      <td>38.0</td>\n",
       "      <td>1</td>\n",
       "      <td>0</td>\n",
       "      <td>PC 17599</td>\n",
       "      <td>71.2833</td>\n",
       "      <td>C85</td>\n",
       "      <td>C</td>\n",
       "    </tr>\n",
       "    <tr>\n",
       "      <th>2</th>\n",
       "      <td>3</td>\n",
       "      <td>1</td>\n",
       "      <td>3</td>\n",
       "      <td>Heikkinen, Miss. Laina</td>\n",
       "      <td>female</td>\n",
       "      <td>26.0</td>\n",
       "      <td>0</td>\n",
       "      <td>0</td>\n",
       "      <td>STON/O2. 3101282</td>\n",
       "      <td>7.9250</td>\n",
       "      <td>NaN</td>\n",
       "      <td>S</td>\n",
       "    </tr>\n",
       "    <tr>\n",
       "      <th>3</th>\n",
       "      <td>4</td>\n",
       "      <td>1</td>\n",
       "      <td>1</td>\n",
       "      <td>Futrelle, Mrs. Jacques Heath (Lily May Peel)</td>\n",
       "      <td>female</td>\n",
       "      <td>35.0</td>\n",
       "      <td>1</td>\n",
       "      <td>0</td>\n",
       "      <td>113803</td>\n",
       "      <td>53.1000</td>\n",
       "      <td>C123</td>\n",
       "      <td>S</td>\n",
       "    </tr>\n",
       "    <tr>\n",
       "      <th>4</th>\n",
       "      <td>5</td>\n",
       "      <td>0</td>\n",
       "      <td>3</td>\n",
       "      <td>Allen, Mr. William Henry</td>\n",
       "      <td>male</td>\n",
       "      <td>35.0</td>\n",
       "      <td>0</td>\n",
       "      <td>0</td>\n",
       "      <td>373450</td>\n",
       "      <td>8.0500</td>\n",
       "      <td>NaN</td>\n",
       "      <td>S</td>\n",
       "    </tr>\n",
       "  </tbody>\n",
       "</table>\n",
       "</div>"
      ],
      "text/plain": [
       "   PassengerId  Survived  Pclass  \\\n",
       "0            1         0       3   \n",
       "1            2         1       1   \n",
       "2            3         1       3   \n",
       "3            4         1       1   \n",
       "4            5         0       3   \n",
       "\n",
       "                                                Name     Sex   Age  SibSp  \\\n",
       "0                            Braund, Mr. Owen Harris    male  22.0      1   \n",
       "1  Cumings, Mrs. John Bradley (Florence Briggs Th...  female  38.0      1   \n",
       "2                             Heikkinen, Miss. Laina  female  26.0      0   \n",
       "3       Futrelle, Mrs. Jacques Heath (Lily May Peel)  female  35.0      1   \n",
       "4                           Allen, Mr. William Henry    male  35.0      0   \n",
       "\n",
       "   Parch            Ticket     Fare Cabin Embarked  \n",
       "0      0         A/5 21171   7.2500   NaN        S  \n",
       "1      0          PC 17599  71.2833   C85        C  \n",
       "2      0  STON/O2. 3101282   7.9250   NaN        S  \n",
       "3      0            113803  53.1000  C123        S  \n",
       "4      0            373450   8.0500   NaN        S  "
      ]
     },
     "execution_count": 245,
     "metadata": {},
     "output_type": "execute_result"
    }
   ],
   "source": [
    "training.head()"
   ]
  },
  {
   "cell_type": "code",
   "execution_count": 246,
   "metadata": {},
   "outputs": [
    {
     "data": {
      "image/png": "[encoded data removed]",
      "text/plain": [
       "<Figure size 1152x288 with 5 Axes>"
      ]
     },
     "metadata": {
      "needs_background": "light"
     },
     "output_type": "display_data"
    }
   ],
   "source": [
    "#Plotando algumas variaveis\n",
    "############\n",
    "###note que precisamos completar alguns valores pois eles não estão informados\n",
    "############\n",
    "fig, ax = plt.subplots(1,5, figsize=(16,4))\n",
    "################\n",
    "ax[0].hist(training['Age'].fillna(-10), \n",
    "         bins=20, \n",
    "         density=True,\n",
    "         alpha=0.6,\n",
    "         color='blue')\n",
    "ax[0].set_title('Age')\n",
    "################\n",
    "ax[1].hist(training['Pclass'].fillna(-10),\n",
    "             bins=5,\n",
    "             alpha=0.6,\n",
    "             color='orange')\n",
    "ax[1].set_title('Passager Class')\n",
    "################\n",
    "ax[2].hist(training['Sex'].fillna('No Info'), \n",
    "           bins=3,\n",
    "           color='red',\n",
    "           alpha=0.6)\n",
    "ax[2].set_title('Sex')\n",
    "################\n",
    "ax[3].hist(training['Embarked'].fillna('No Info'),\n",
    "           color='green',\n",
    "           alpha=0.6)\n",
    "ax[3].set_title('Embarked')\n",
    "################\n",
    "ax[4].hist(training['Fare'].fillna(10**6),\n",
    "           bins=20,\n",
    "           color='violet',\n",
    "           alpha=0.6)\n",
    "ax[4].set_title('Fare')\n",
    "################\n",
    "plt.show()\n"
   ]
  },
  {
   "cell_type": "code",
   "execution_count": 247,
   "metadata": {},
   "outputs": [],
   "source": [
    "def convert_sex(gender):\n",
    "    \"\"\"\"Funçao para converter a variavael genero para binario:\n",
    "    M = 1 \n",
    "    H = 0\n",
    "    \"\"\"\n",
    "    if gender == 'female':\n",
    "        return 1\n",
    "    elif gender == 'male':\n",
    "        return 0"
   ]
  },
  {
   "cell_type": "code",
   "execution_count": 248,
   "metadata": {},
   "outputs": [],
   "source": [
    "def convert_embarked(emb):\n",
    "    \"\"\"\"Funçao para converter a variavel embarked para binario\"\"\"\n",
    "    if emb == 'S':\n",
    "        return 1\n",
    "    elif emb == 'C':\n",
    "        return 2\n",
    "    elif emb == 'Q':\n",
    "        return 3\n",
    "    else:\n",
    "        return 0"
   ]
  },
  {
   "cell_type": "code",
   "execution_count": 249,
   "metadata": {},
   "outputs": [],
   "source": [
    "#Criando uma coluna no DF com o sexo, embarked para binario:\n",
    "training['Sex_bin'] = training['Sex'].map(convert_sex)\n",
    "test['Sex_bin'] = test['Sex'].map(convert_sex)\n",
    "##\n",
    "training['Embarked_bin'] = training['Embarked'].map(convert_embarked)\n",
    "test['Embarked_bin'] = test['Embarked'].map(convert_embarked)"
   ]
  },
  {
   "cell_type": "code",
   "execution_count": 258,
   "metadata": {},
   "outputs": [],
   "source": [
    "# Limpando os valores onde a idade não está definida\n",
    "# Removendo dados com valor nulo\n",
    "training_clean = training.dropna(subset=['Age'])"
   ]
  },
  {
   "cell_type": "code",
   "execution_count": 270,
   "metadata": {},
   "outputs": [],
   "source": [
    "#Definindo as variaveis:\n",
    "variables = ['Sex_bin', 'Embarked_bin','Age','Pclass','SibSp', 'Parch', 'Fare']\n",
    "\n",
    "x = training_clean[variables]\n",
    "y = training_clean['Survived']\n",
    "\n",
    "#x.shape, y.shape"
   ]
  },
  {
   "cell_type": "code",
   "execution_count": 292,
   "metadata": {},
   "outputs": [],
   "source": [
    "#Criando uma validação Cruzada para os modelos\n",
    "from sklearn.model_selection import RepeatedKFold\n",
    "#Importando os modelos\n",
    "from sklearn.ensemble import RandomForestClassifier\n",
    "from sklearn.linear_model import LogisticRegression"
   ]
  },
  {
   "cell_type": "code",
   "execution_count": 307,
   "metadata": {},
   "outputs": [],
   "source": [
    "kf = RepeatedKFold(n_splits=2, n_repeats=25, random_state=10)\n",
    "\n",
    "result_1 = []\n",
    "result_2 = []\n",
    "\n",
    "for line_training, line_validation in kf.split(x):\n",
    "    #Separando conjunto de dados para treino e validação do modelo\n",
    "    x_training, x_validation = x.iloc[line_training], x.iloc[line_validation] \n",
    "    y_training, y_validation = y.iloc[line_training], y.iloc[line_validation]\n",
    "    ############\n",
    "    ##Modelo 1 : Random Forest\n",
    "    ############\n",
    "    model_1 = RandomForestClassifier(n_estimators=100, n_jobs=1, random_state=0)\n",
    "    model_1.fit(x_training,y_training)\n",
    "    prediction_1 = model_1.predict(x_validation)\n",
    "    accuracy_1 = np.mean(y_validation == prediction_1)\n",
    "    result_1.append(accuracy_1)\n",
    "    ###########\n",
    "    ##Modelo 2 : Regressão Logistica\n",
    "    ###########\n",
    "    model_2 = LogisticRegression(solver='lbfgs', max_iter=1000)\n",
    "    model_2.fit(x_training,y_training)\n",
    "    prediction_2 = model_2.predict(x_validation)\n",
    "    accuracy_2 = np.mean(y_validation == prediction_2)\n",
    "    result_2.append(accuracy_2)"
   ]
  },
  {
   "cell_type": "code",
   "execution_count": 308,
   "metadata": {},
   "outputs": [
    {
     "name": "stdout",
     "output_type": "stream",
     "text": [
      "Random Forest: 0.7875\n",
      "Regressão Logistica: 0.7989\n"
     ]
    }
   ],
   "source": [
    "print(\"Random Forest:\", round(np.mean(result_1),4))\n",
    "print(\"Regressão Logistica:\", round(np.mean(result_2),4))"
   ]
  },
  {
   "cell_type": "code",
   "execution_count": 309,
   "metadata": {},
   "outputs": [
    {
     "data": {
      "image/png": "[encoded data removed]",
      "text/plain": [
       "<Figure size 432x288 with 1 Axes>"
      ]
     },
     "metadata": {
      "needs_background": "light"
     },
     "output_type": "display_data"
    }
   ],
   "source": [
    "plt.hist(result_1, alpha=0.6, label='Random Forest')\n",
    "plt.hist(result_2, alpha=0.6, label='Logist Regression')\n",
    "plt.legend()\n",
    "plt.show()"
   ]
  },
  {
   "cell_type": "code",
   "execution_count": 318,
   "metadata": {},
   "outputs": [],
   "source": [
    "#Submissao\n",
    "model = LogisticRegression(solver='lbfgs', max_iter=1000)\n",
    "model.fit(x,y)\n",
    "\n",
    "prediction = model.predict(test[variables].fillna(-1))"
   ]
  },
  {
   "cell_type": "code",
   "execution_count": 319,
   "metadata": {},
   "outputs": [],
   "source": [
    "submission = pd.Series(prediction, index=test['PassengerId'], name='Survived')"
   ]
  },
  {
   "cell_type": "code",
   "execution_count": 321,
   "metadata": {},
   "outputs": [],
   "source": [
    "submission.to_csv(\"LR_model.csv\", header=True)"
   ]
  },
  {
   "cell_type": "code",
   "execution_count": 323,
   "metadata": {},
   "outputs": [
    {
     "name": "stdout",
     "output_type": "stream",
     "text": [
      "PassengerId,Survived\r\n",
      "892,0\r\n",
      "893,0\r\n",
      "894,0\r\n",
      "895,0\r\n",
      "896,1\r\n",
      "897,0\r\n",
      "898,1\r\n",
      "899,0\r\n",
      "900,1\r\n"
     ]
    }
   ],
   "source": [
    "!head -n10 LR_model.csv"
   ]
  },
  {
   "cell_type": "code",
   "execution_count": null,
   "metadata": {},
   "outputs": [],
   "source": []
  }
 ],
 "metadata": {
  "kernelspec": {
   "display_name": "Python 3",
   "language": "python",
   "name": "python3"
  },
  "language_info": {
   "codemirror_mode": {
    "name": "ipython",
    "version": 3
   },
   "file_extension": ".py",
   "mimetype": "text/x-python",
   "name": "python",
   "nbconvert_exporter": "python",
   "pygments_lexer": "ipython3",
   "version": "3.6.9"
  }
 },
 "nbformat": 4,
 "nbformat_minor": 2
}
